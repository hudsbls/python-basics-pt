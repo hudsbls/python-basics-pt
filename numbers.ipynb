{
 "cells": [
  {
   "cell_type": "markdown",
   "metadata": {},
   "source": [
    "### Tutorial básico de números"
   ]
  },
  {
   "cell_type": "markdown",
   "metadata": {},
   "source": [
    "### `números`\n",
    "\n",
    "Há três tipos numéricos no Python:\n",
    "\n",
    "`int`:\n",
    "\n",
    "números inteiros  \n",
    "\n",
    "ex: `x = 2`\n",
    "\n",
    "`float`:\n",
    "\n",
    "números fracionados\n",
    "\n",
    "ex: `x = 2.345`\n",
    "\n",
    "`complex`:\n",
    "\n",
    "são números com partes imaginárias representada por “j”.\n",
    "\n",
    "ex: `x = 5j`\n",
    "\n",
    "É possível fazer operações matemáticas de forma simples no interpretador.  A sintaxe de expressões é a usual: operadores `+`, `-`, `*` e `/`, os parenteses podem ser usados para separar as expressões.\n",
    "\n",
    "<aside>\n",
    "\n",
    "\n",
    "\n",
    "\n",
    "> 💡 ***dica rápida*** ---\n",
    "Divisão (`/`) sempre retorna ponto flutuante (float). Para fazer uma [divisão pelo piso](https://docs.python.org/pt-br/3.8/glossary.html#term-floor-division)(arredonda para baixo o inteiro mais próximo) e receber um inteiro como resultado (descartando a parte fracionária) você pode usar o operador `//`; para calcular o resto você pode usar o `%` .\n",
    "\n",
    "\n",
    "\n",
    "</aside>"
   ]
  },
  {
   "cell_type": "code",
   "execution_count": 2,
   "metadata": {},
   "outputs": [
    {
     "data": {
      "text/plain": [
       "12.5625"
      ]
     },
     "execution_count": 2,
     "metadata": {},
     "output_type": "execute_result"
    }
   ],
   "source": [
    "taxa = 12.5 / 100\n",
    "preco = 100.50\n",
    "preco * taxa"
   ]
  },
  {
   "cell_type": "markdown",
   "metadata": {
    "id": "m6qcDKEyRIJA"
   },
   "source": [
    "No modo interativo, o valor da última expressão exibida é atribuída a variável `_`. Assim, ao utilizar Python como uma calculadora, fica mais fácil prosseguir com os cálculos, por exemplo:"
   ]
  },
  {
   "cell_type": "code",
   "execution_count": 3,
   "metadata": {},
   "outputs": [
    {
     "data": {
      "text/plain": [
       "113.0625"
      ]
     },
     "execution_count": 3,
     "metadata": {},
     "output_type": "execute_result"
    }
   ],
   "source": [
    "preco + _"
   ]
  },
  {
   "cell_type": "code",
   "execution_count": 5,
   "metadata": {},
   "outputs": [
    {
     "data": {
      "text/plain": [
       "113.1"
      ]
     },
     "execution_count": 5,
     "metadata": {},
     "output_type": "execute_result"
    }
   ],
   "source": [
    "round(_, 1) # arrendoda o último número para uma casa decimal"
   ]
  },
  {
   "cell_type": "markdown",
   "metadata": {},
   "source": []
  }
 ],
 "metadata": {
  "interpreter": {
   "hash": "31f2aee4e71d21fbe5cf8b01ff0e069b9275f58929596ceb00d14d90e3e16cd6"
  },
  "kernelspec": {
   "display_name": "Python 3.8.10 64-bit",
   "language": "python",
   "name": "python3"
  },
  "language_info": {
   "codemirror_mode": {
    "name": "ipython",
    "version": 3
   },
   "file_extension": ".py",
   "mimetype": "text/x-python",
   "name": "python",
   "nbconvert_exporter": "python",
   "pygments_lexer": "ipython3",
   "version": "3.8.10"
  },
  "orig_nbformat": 4
 },
 "nbformat": 4,
 "nbformat_minor": 2
}
