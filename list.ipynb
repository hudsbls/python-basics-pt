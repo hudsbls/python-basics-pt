{
 "cells": [
  {
   "cell_type": "markdown",
   "metadata": {},
   "source": [
    "### `list`\n",
    "\n",
    "**é lista de itens separados por virgula, entre colchetes.**\n",
    "\n",
    "- listas podem ser indexadas e fatiadas, assim como as strings e outros tipos de embutidos de sequencia;\n",
    "- suportam concatenação\n",
    "- **são mutáveis**\n",
    "    - substituir valores\n",
    "    - adicionar valores\n",
    "    - remover valores"
   ]
  },
  {
   "cell_type": "markdown",
   "metadata": {},
   "source": []
  }
 ],
 "metadata": {
  "language_info": {
   "name": "python"
  },
  "orig_nbformat": 4
 },
 "nbformat": 4,
 "nbformat_minor": 2
}
