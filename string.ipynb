{
  "cells": [
    {
      "cell_type": "markdown",
      "metadata": {},
      "source": [
        "### Tutorial básico de Strings"
      ]
    },
    {
      "cell_type": "markdown",
      "metadata": {
        "id": "8_swWN1zQF33"
      },
      "source": [
        "### `números`\n",
        "\n",
        "Há três tipos numéricos no Python:\n",
        "\n",
        "`int`:\n",
        "\n",
        "números inteiros  \n",
        "\n",
        "ex: `x = 2`\n",
        "\n",
        "`float`:\n",
        "\n",
        "números fracionados\n",
        "\n",
        "ex: `x = 2.345`\n",
        "\n",
        "`complex`:\n",
        "\n",
        "são números com partes imaginárias representada por “j”.\n",
        "\n",
        "ex: `x = 5j`\n",
        "\n",
        "É possível fazer operações matemáticas de forma simples no interpretador.  A sintaxe de expressões é a usual: operadores `+`, `-`, `*` e `/`, os parenteses podem ser usados para separar as expressões.\n",
        "\n",
        "<aside>\n",
        "\n",
        "\n",
        "\n",
        "\n",
        "> 💡 ***dica rápida*** ---\n",
        "Divisão (`/`) sempre retorna ponto flutuante (float). Para fazer uma [divisão pelo piso](https://docs.python.org/pt-br/3.8/glossary.html#term-floor-division)(arredonda para baixo o inteiro mais próximo) e receber um inteiro como resultado (descartando a parte fracionária) você pode usar o operador `//`; para calcular o resto você pode usar o `%` .\n",
        "\n",
        "\n",
        "\n",
        "</aside>"
      ]
    },
    {
      "cell_type": "code",
      "execution_count": 1,
      "metadata": {
        "colab": {
          "base_uri": "https://localhost:8080/"
        },
        "id": "G19WILPYQK9M",
        "outputId": "52afa6cb-d4ae-4026-f2c8-6695bd352ce8"
      },
      "outputs": [
        {
          "data": {
            "text/plain": [
              "12.5625"
            ]
          },
          "execution_count": 1,
          "metadata": {},
          "output_type": "execute_result"
        }
      ],
      "source": [
        "taxa = 12.5 / 100\n",
        "preco = 100.50\n",
        "preco * taxa"
      ]
    },
    {
      "cell_type": "markdown",
      "metadata": {
        "id": "m6qcDKEyRIJA"
      },
      "source": [
        "No modo interativo, o valor da última expressão exibida é atribuída a variável `_`. Assim, ao utilizar Python como uma calculadora, fica mais fácil prosseguir com os cálculos, por exemplo:"
      ]
    },
    {
      "cell_type": "code",
      "execution_count": 2,
      "metadata": {
        "colab": {
          "base_uri": "https://localhost:8080/"
        },
        "id": "EWqUFZXzQ2C2",
        "outputId": "43737ce0-feae-4a08-b32e-2ed78ab1bd9e"
      },
      "outputs": [
        {
          "data": {
            "text/plain": [
              "113.0625"
            ]
          },
          "execution_count": 2,
          "metadata": {},
          "output_type": "execute_result"
        }
      ],
      "source": [
        "preco + _"
      ]
    },
    {
      "cell_type": "code",
      "execution_count": 3,
      "metadata": {
        "colab": {
          "base_uri": "https://localhost:8080/"
        },
        "id": "Yqk9DGHxRChB",
        "outputId": "04f20c13-1444-45ba-e2d2-be7fecea95bc"
      },
      "outputs": [
        {
          "data": {
            "text/plain": [
              "113.1"
            ]
          },
          "execution_count": 3,
          "metadata": {},
          "output_type": "execute_result"
        }
      ],
      "source": [
        "round(_, 1) # arrendoda o último número para uma casa decimal"
      ]
    },
    {
      "cell_type": "markdown",
      "metadata": {
        "id": "rqf3Yf9cRRLk"
      },
      "source": [
        "### `strings`\n",
        "\n",
        "**strings são sequencias de caracteres, pode ser delimitada por aspas duplas (“”) ou aspas simples (‘’).**\n",
        "\n",
        "exemplos:"
      ]
    },
    {
      "cell_type": "code",
      "execution_count": 4,
      "metadata": {
        "colab": {
          "base_uri": "https://localhost:8080/",
          "height": 35
        },
        "id": "RxPG6mQqRNdP",
        "outputId": "c4d95e76-df10-4508-92cc-e6e387d2ae87"
      },
      "outputs": [
        {
          "data": {
            "text/plain": [
              "'spam eggs'"
            ]
          },
          "execution_count": 4,
          "metadata": {},
          "output_type": "execute_result"
        }
      ],
      "source": [
        "'spam eggs'  # aspas simples"
      ]
    },
    {
      "cell_type": "code",
      "execution_count": 7,
      "metadata": {
        "colab": {
          "base_uri": "https://localhost:8080/",
          "height": 35
        },
        "id": "32oPIqyNRs-J",
        "outputId": "b8843f46-329f-4b98-a980-d7a24717ee09"
      },
      "outputs": [
        {
          "data": {
            "text/plain": [
              "\"doesn't\""
            ]
          },
          "execution_count": 7,
          "metadata": {},
          "output_type": "execute_result"
        }
      ],
      "source": [
        "'doesn\\'t'  # use \\' para escapar das aspas simples usadas no meio da string"
      ]
    },
    {
      "cell_type": "code",
      "execution_count": 8,
      "metadata": {
        "colab": {
          "base_uri": "https://localhost:8080/",
          "height": 35
        },
        "id": "-baGF09QRx95",
        "outputId": "5a9fd7f8-99d0-4c2c-cbf5-0793e68eedc9"
      },
      "outputs": [
        {
          "data": {
            "text/plain": [
              "\"doesn't\""
            ]
          },
          "execution_count": 8,
          "metadata": {},
          "output_type": "execute_result"
        }
      ],
      "source": [
        ">>> \"doesn't\"  # ...ou use aspas duplas"
      ]
    },
    {
      "cell_type": "code",
      "execution_count": 10,
      "metadata": {
        "colab": {
          "base_uri": "https://localhost:8080/",
          "height": 130
        },
        "id": "FTjnqEWIR4nq",
        "outputId": "c4735ca5-cef7-4f7b-f5f4-1ac33d2fb6d1"
      },
      "outputs": [
        {
          "ename": "SyntaxError",
          "evalue": "invalid syntax (2124031408.py, line 1)",
          "output_type": "error",
          "traceback": [
            "\u001b[0;36m  Input \u001b[0;32mIn [10]\u001b[0;36m\u001b[0m\n\u001b[0;31m    'doesn't'' # erro gerado por usar a aspa simples(') sem '\\'\u001b[0m\n\u001b[0m           ^\u001b[0m\n\u001b[0;31mSyntaxError\u001b[0m\u001b[0;31m:\u001b[0m invalid syntax\n"
          ]
        }
      ],
      "source": [
        "'doesn't'' # erro gerado por usar a aspa simples(') sem '\\'"
      ]
    },
    {
      "cell_type": "markdown",
      "metadata": {
        "id": "7o5fnuCeUYXU"
      },
      "source": [
        "função `print` resulta uma saída mais legível, sem as aspas simples visíveis:"
      ]
    },
    {
      "cell_type": "code",
      "execution_count": 13,
      "metadata": {
        "colab": {
          "base_uri": "https://localhost:8080/",
          "height": 70
        },
        "id": "RvwGHsOrR8vw",
        "outputId": "ba468029-0eb3-4315-9acd-951c79ba4fa5"
      },
      "outputs": [],
      "source": [
        "s = 'First line.\\nSecond line.'  # \\n significa nova linha\n",
        "\n",
        "        "
      ]
    },
    {
      "cell_type": "code",
      "execution_count": 16,
      "metadata": {},
      "outputs": [
        {
          "name": "stdout",
          "output_type": "stream",
          "text": [
            "First line.\n",
            "Second line.\n"
          ]
        }
      ],
      "source": [
        "print(s)  # com print(), \\n produz uma nova linha à mesma\n"
      ]
    },
    {
      "cell_type": "code",
      "execution_count": 18,
      "metadata": {
        "colab": {
          "base_uri": "https://localhost:8080/",
          "height": 35
        },
        "id": "HnbhjJw8UWdx",
        "outputId": "bb938b6f-abaf-49fb-b801-0747f218276e"
      },
      "outputs": [
        {
          "data": {
            "text/plain": [
              "'First line.\\nSecond line.'"
            ]
          },
          "execution_count": 18,
          "metadata": {},
          "output_type": "execute_result"
        }
      ],
      "source": [
        "s # sem print(), \\n é incluso no output\n"
      ]
    },
    {
      "cell_type": "markdown",
      "metadata": {
        "id": "1djsBY1rVT5V"
      },
      "source": [
        "para que o python não interprete `\\` como caracter especial, usa-se a string raw que é a adição do `r` antes da primeira aspa: "
      ]
    },
    {
      "cell_type": "code",
      "execution_count": 19,
      "metadata": {
        "colab": {
          "base_uri": "https://localhost:8080/"
        },
        "id": "oVVC0joNU-Hl",
        "outputId": "81bceee4-7fe7-4706-a428-ce48e40932f7"
      },
      "outputs": [
        {
          "name": "stdout",
          "output_type": "stream",
          "text": [
            "C:\\some\n",
            "ame\n",
            "C:\\some\\name\n"
          ]
        }
      ],
      "source": [
        "print('C:\\some\\name')  # aqui \\n resulta numa nova linha\n",
        "print(r'C:\\some\\name')  # note a diferença com a adição do r"
      ]
    },
    {
      "cell_type": "markdown",
      "metadata": {
        "id": "nfCaqlknV3E6"
      },
      "source": [
        "`string` com mais linhas usa as aspas triplas (simples: ’’’...’’’ ou duplas: “””...”””). Para não pular a primeira linha usa-se `\\` logo após as aspas:"
      ]
    },
    {
      "cell_type": "code",
      "execution_count": 24,
      "metadata": {
        "colab": {
          "base_uri": "https://localhost:8080/"
        },
        "id": "RX9G9UXBV0IM",
        "outputId": "0359fef2-f8e0-4777-f004-f640fd1d2ec6"
      },
      "outputs": [
        {
          "name": "stdout",
          "output_type": "stream",
          "text": [
            "\n",
            "observe\n",
            "\n",
            "como\n",
            "fica\n",
            "\n"
          ]
        }
      ],
      "source": [
        "print ('''\n",
        "... observe\n",
        "... \n",
        "... como\n",
        "... fica\n",
        "... ''')\n"
      ]
    },
    {
      "cell_type": "code",
      "execution_count": 25,
      "metadata": {},
      "outputs": [
        {
          "name": "stdout",
          "output_type": "stream",
          "text": [
            "observe\n",
            "a\n",
            "diferença\n",
            "com\n",
            "na primeira linha\n"
          ]
        }
      ],
      "source": [
        "print ('''\\\n",
        "... observe\n",
        "... a\n",
        "... diferença\n",
        "... com\n",
        "... na primeira linha''')\n"
      ]
    },
    {
      "cell_type": "markdown",
      "metadata": {
        "id": "BNMgGeYJWkKM"
      },
      "source": [
        "`string` aceitam operações matemáticas como `*` e `+`:\n",
        "<aside>\n",
        "\n",
        "> 💡 As strings podem ser *indexadas* (subscritas), com o primeiro caractere como índice 0. Não existe um tipo específico para caracteres; um caractere é simplesmente uma string cujo tamanho é 1:\n",
        "\n",
        "\n",
        "\n",
        "\n",
        "\n",
        "\n",
        "\n",
        "</aside>"
      ]
    },
    {
      "cell_type": "code",
      "execution_count": 29,
      "metadata": {
        "colab": {
          "base_uri": "https://localhost:8080/"
        },
        "id": "7NtJ4CC1WJC-",
        "outputId": "58fbe280-b8b4-4fa0-f28a-a846b41d17b5"
      },
      "outputs": [
        {
          "name": "stdout",
          "output_type": "stream",
          "text": [
            "P\n",
            "y\n",
            "t\n",
            "h\n",
            "o\n",
            "n\n"
          ]
        }
      ],
      "source": [
        "palavra = 'Python'\n",
        "print(palavra[0]) # caracter da posição 0 (1ª letra)\n",
        "print(palavra[1]) # caracter da posição 1 (2ª letra) ...\n",
        "print(palavra[2]) # caracter da posição 2\n",
        "print(palavra[3]) # caracter da posição 3\n",
        "print(palavra[4]) # caracter da posição 4\n",
        "print(palavra[5]) # caracter da posição 5"
      ]
    },
    {
      "cell_type": "markdown",
      "metadata": {
        "id": "DCtj1JJFXcgO"
      },
      "source": [
        "Índices também podem ser números negativos para iniciar a contagem pela direita(\n",
        "**note que dado que -0 é o mesmo que 0, índices negativos começam em -1.**):"
      ]
    },
    {
      "cell_type": "code",
      "execution_count": 30,
      "metadata": {
        "colab": {
          "base_uri": "https://localhost:8080/"
        },
        "id": "NOR2K7sCXUav",
        "outputId": "4e1ab02d-89e4-4939-ef9a-9a3850169e83"
      },
      "outputs": [
        {
          "name": "stdout",
          "output_type": "stream",
          "text": [
            "n\n",
            "o\n",
            "h\n",
            "t\n",
            "y\n",
            "P\n"
          ]
        }
      ],
      "source": [
        "print(palavra[-1]) # último caracter\n",
        "print(palavra[-2]) # penúltimo caracter\n",
        "print(palavra[-3])\n",
        "print(palavra[-4])\n",
        "print(palavra[-5])\n",
        "print(palavra[-6])"
      ]
    },
    {
      "cell_type": "markdown",
      "metadata": {
        "id": "wgGsAHbDYF94"
      },
      "source": [
        "Além da indexação, o fatiamento também é permitido. Embora a indexação seja usada para obter caracteres individuais, fatiar permite que você obtenha substring:"
      ]
    },
    {
      "cell_type": "code",
      "execution_count": 34,
      "metadata": {
        "colab": {
          "base_uri": "https://localhost:8080/"
        },
        "id": "hMsg5ljzX2Ud",
        "outputId": "6073100a-0411-471a-fe03-d387a80a96ea"
      },
      "outputs": [
        {
          "name": "stdout",
          "output_type": "stream",
          "text": [
            "Py\n",
            "thon\n"
          ]
        }
      ],
      "source": [
        "print(palavra[0:2])\n",
        "print(palavra[2:6])"
      ]
    },
    {
      "cell_type": "markdown",
      "metadata": {
        "id": "glporX33YcLo"
      },
      "source": [
        "Observe como o início sempre está incluído, e o fim sempre é excluído. Isso garante que `s[:i]` + `s[i:]` seja sempre igual a s:"
      ]
    },
    {
      "cell_type": "code",
      "execution_count": 35,
      "metadata": {
        "colab": {
          "base_uri": "https://localhost:8080/"
        },
        "id": "ygnSL_yvYL6W",
        "outputId": "e389872b-97d7-4b61-c397-53f1aba23d91"
      },
      "outputs": [
        {
          "name": "stdout",
          "output_type": "stream",
          "text": [
            "Python\n",
            "Python\n"
          ]
        }
      ],
      "source": [
        "print(palavra[:2] + palavra[2:])\n",
        "print(palavra[:5] + palavra[5:])"
      ]
    },
    {
      "cell_type": "markdown",
      "metadata": {
        "id": "OCA4gItAZxw5"
      },
      "source": [
        "> Uma maneira de lembrar como fatias funcionam é pensar que os índices indicam posições *entre* caracteres, onde a borda esquerda do primeiro caractere é 0. Assim, a borda direita do último caractere de uma string de comprimento *n* tem índice *n*, por exemplo:\n",
        "> \n",
        "> \n",
        "> ```python\n",
        ">  +---+---+---+---+---+---+\n",
        ">  | P | y | t | h | o | n |\n",
        ">  +---+---+---+---+---+---+\n",
        ">  0   1   2   3   4   5   6\n",
        "> -6  -5  -4  -3  -2  -1\n",
        "> ```\n",
        "> \n",
        "\n",
        "**As strings do Python não podem ser alteradas — uma string é [imutável](https://docs.python.org/pt-br/3.8/glossary.html#term-immutable). Portanto, atribuir a uma posição indexada na sequência resulta em um erro. *Caso queira uma string diferente deve-se criar uma nova!***\n",
        "\n",
        "`len` devolve o comprimento de uma string\n",
        "\n",
        "<aside>\n"
      ]
    },
    {
      "cell_type": "markdown",
      "metadata": {
        "id": "PGtVrU8BbBma"
      },
      "source": [
        "<aside>\n",
        "💡 **Links para a documentação**\n",
        "<br>\n",
        "<br>\n",
        "<br>\n",
        "\n",
        "**[Tipo sequência de texto — str](https://docs.python.org/pt-br/3.8/library/stdtypes.html#textseq)**\n",
        "\n",
        "As strings são exemplos de *tipos de sequências* e suportam as operações comumente suportadas por esses tipos.\n",
        "\n",
        "**[Métodos de String](https://docs.python.org/pt-br/3.8/library/stdtypes.html#string-methods)**\n",
        "\n",
        "As strings suportam uma grande quantidade de métodos para transformações básicas e busca.\n",
        "\n",
        "**[Literais de string formatados](https://docs.python.org/pt-br/3.8/reference/lexical_analysis.html#f-strings)**\n",
        "\n",
        "Strings literais que possuem expressões embutidas.\n",
        "\n",
        "**[Sintaxe das strings de formato](https://docs.python.org/pt-br/3.8/library/string.html#formatstrings)**\n",
        "\n",
        "Informações sobre formatação de string com o método `[str.format()](https://docs.python.org/pt-br/3.8/library/stdtypes.html#str.format)`.\n",
        "\n",
        "**[Formatação de String no Formato printf-style](https://docs.python.org/pt-br/3.8/library/stdtypes.html#old-string-formatting)**\n",
        "\n",
        "As antigas operações de formatação invocadas quando as strings são o operando esquerdo do operador `%` são descritas com mais detalhes aqui.\n",
        "\n",
        "</aside>\n",
        "\n",
        "**Note:** All string methods returns new values. They do not change the original string."
      ]
    },
    {
      "cell_type": "code",
      "execution_count": null,
      "metadata": {
        "id": "_-J8Vj3bYnqa"
      },
      "outputs": [],
      "source": []
    },
    {
      "cell_type": "code",
      "execution_count": null,
      "metadata": {
        "id": "crYgCM4Uau_D"
      },
      "outputs": [],
      "source": []
    }
  ],
  "metadata": {
    "colab": {
      "authorship_tag": "ABX9TyPPujZpHSW3T7395Peps86J",
      "include_colab_link": true,
      "name": "string",
      "provenance": []
    },
    "kernelspec": {
      "display_name": "Python 3",
      "name": "python3"
    },
    "language_info": {
      "codemirror_mode": {
        "name": "ipython",
        "version": 3
      },
      "file_extension": ".py",
      "mimetype": "text/x-python",
      "name": "python",
      "nbconvert_exporter": "python",
      "pygments_lexer": "ipython3",
      "version": "3.8.10"
    }
  },
  "nbformat": 4,
  "nbformat_minor": 0
}
